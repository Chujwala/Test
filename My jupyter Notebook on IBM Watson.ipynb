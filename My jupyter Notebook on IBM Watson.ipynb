{
 "cells": [
  {
   "cell_type": "markdown",
   "id": "52cf0a67",
   "metadata": {},
   "source": [
    "# My Jupyter Notebook on IBM Watson Studio"
   ]
  },
  {
   "cell_type": "markdown",
   "id": "5756c301",
   "metadata": {},
   "source": [
    "**Ujwala Chikkala**\n",
    "Student for life"
   ]
  },
  {
   "cell_type": "markdown",
   "id": "70b26f2e",
   "metadata": {},
   "source": [
    "_I am interested in data science because I am curious to know and apply data insights to Finance related topics_"
   ]
  },
  {
   "cell_type": "markdown",
   "id": "10527f11",
   "metadata": {},
   "source": [
    "### The following code adds two numbers"
   ]
  },
  {
   "cell_type": "code",
   "execution_count": 2,
   "id": "900edee2",
   "metadata": {},
   "outputs": [
    {
     "name": "stdout",
     "output_type": "stream",
     "text": [
      "3\n"
     ]
    }
   ],
   "source": [
    "a=1\n",
    "b=2 \n",
    "print(a+b)"
   ]
  },
  {
   "cell_type": "markdown",
   "id": "e5e438cd",
   "metadata": {},
   "source": [
    "* Stop\n",
    "* and \n",
    "* smell \n",
    "* the\n",
    "* roses"
   ]
  },
  {
   "cell_type": "markdown",
   "id": "a26656e3",
   "metadata": {},
   "source": [
    "|Name| |Age| |Profession|\n",
    "|----| |---| |----------|\n",
    "|Sam|  |32|  |Artist|\n",
    "|Pam|  |36|  |Teacher|\n",
    "|Ram|  |47|  |Banker|"
   ]
  },
  {
   "cell_type": "markdown",
   "id": "78255067",
   "metadata": {},
   "source": [
    "www.ibm.com"
   ]
  },
  {
   "cell_type": "code",
   "execution_count": null,
   "id": "813a674f",
   "metadata": {},
   "outputs": [],
   "source": []
  }
 ],
 "metadata": {
  "kernelspec": {
   "display_name": "Python 3 (ipykernel)",
   "language": "python",
   "name": "python3"
  },
  "language_info": {
   "codemirror_mode": {
    "name": "ipython",
    "version": 3
   },
   "file_extension": ".py",
   "mimetype": "text/x-python",
   "name": "python",
   "nbconvert_exporter": "python",
   "pygments_lexer": "ipython3",
   "version": "3.10.7"
  }
 },
 "nbformat": 4,
 "nbformat_minor": 5
}
